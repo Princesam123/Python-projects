{
 "cells": [
  {
   "cell_type": "markdown",
   "metadata": {
    "id": "g6YXO5CuvEtt"
   },
   "source": [
    "# CIS 443-01 - Analytics Programming\n",
    "## Lab 6\n",
    "__Grading ID__: P8330 (double click the cell in Jupyter to edit, find ID in Blackboard Gradebook)<br>\n",
    "__Due__: Monday, October 25 (by 11:59 PM)<br />\n",
    "__Worth__: 25 pts."
   ]
  },
  {
   "cell_type": "markdown",
   "metadata": {
    "id": "B6sRXvrTvEtv"
   },
   "source": [
    "### Directions\n",
    "**Exercise 6.7, p. 235 (Character Counts)** Recall that strings are sequences of characters. Use techniques similar to **Fig. 6.2** to write a script that inputs a sentence from the user, then uses a dictionary to summarize the number of occurrences of each letter. Ignore case, ignore blanks, and you assume the user does not enter any punctuation (or you can just count the characters that are letters). Display a two-column table of the letters and their counts with the letters in sorted order. Finally, use a `set` operation to determine which letters of the alphabet were not in the original string and print this result, as well. Test your source code and save your work before submission.<br>\n",
    "**Hint**: It will be helpful to have a string variable with all the lowercase or uppercase letters to determine which letters of the alphabet were not in the entered string. Luckily, Python provides such strings in the `string` module as <a href=\"https://docs.python.org/3/library/string.html#string.ascii_lowercase\" target=\"_blank\">`string.ascii_lowercase`</a> and <a href=\"https://docs.python.org/3/library/string.html#string.ascii_uppercase\" target=\"_blank\">`string.ascii_uppercase`</a>. Then you can use set difference to answer this question.\n"
   ]
  },
  {
   "cell_type": "code",
   "execution_count": 3,
   "metadata": {
    "id": "8cS_2x47vEty"
   },
   "outputs": [],
   "source": [
    "# Put Lab 6 Code Here"
   ]
  },
  {
   "cell_type": "markdown",
   "metadata": {
    "id": "TjAb_IeFvEt0"
   },
   "source": [
    "Be sure to save and exit your Jupyter Notebook and Shutdown Jupyter Lab (from the __File__ menu) if using Ananconda before you submit your notebook on Blackboard for grading. If using Colab, be sure to Download (from the __File__ menu) back to your local file system before submitting to Blackboard.\n",
    "Make sure you don't submit the empty starting notebook by accident."
   ]
  }
 ],
 "metadata": {
  "colab": {
   "collapsed_sections": [],
   "name": "Lab6.ipynb",
   "provenance": []
  },
  "kernelspec": {
   "display_name": "Python 3",
   "language": "python",
   "name": "python3"
  },
  "language_info": {
   "codemirror_mode": {
    "name": "ipython",
    "version": 3
   },
   "file_extension": ".py",
   "mimetype": "text/x-python",
   "name": "python",
   "nbconvert_exporter": "python",
   "pygments_lexer": "ipython3",
   "version": "3.8.8"
  }
 },
 "nbformat": 4,
 "nbformat_minor": 4
}
