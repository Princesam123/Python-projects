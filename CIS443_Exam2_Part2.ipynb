{
 "cells": [
  {
   "cell_type": "markdown",
   "metadata": {},
   "source": [
    "# CIS 443-01 Exam 2, Part 2 Notebook\n",
    "## 35 pts. plus 5 pts. Extra Credit\n",
    "## Directions\n",
    "1. Add your Grading ID below.\n",
    "1. Answer each question in the cells provided.\n",
    "1. When finished, save your work, close the Jupyter Lab file, and Shut Down Jupyter Lab. You will upload this Jupyter Notebook file as your submission to Question 1 in Exam 2, Part 2 in Blackboard.\n",
    "1. Be sure to keep an unaltered version of this file just in case anything goes wrong in Blackboard.\n",
    "\n",
    "__Grading ID__: P8330 (double click the cell in Jupyter to edit)"
   ]
  },
  {
   "cell_type": "markdown",
   "metadata": {},
   "source": [
    "### Problem 1\n",
    "Write a Python code fragment in the code cell below that uses a _list comprehension_ to map the range of integers from 1 through 20 (inclusive) onto the square of each value but filtered to only operate on the odd numbers in the range (producing the square of 1, the square of 3, etc.). (__7 pts.__)"
   ]
  },
  {
   "cell_type": "code",
   "execution_count": 1,
   "metadata": {},
   "outputs": [
    {
     "data": {
      "text/plain": [
       "[3, 9, 15, 21, 27, 33, 39, 45, 51, 57]"
      ]
     },
     "execution_count": 1,
     "metadata": {},
     "output_type": "execute_result"
    }
   ],
   "source": [
    "int_list = []\n",
    "list_comp = [ item for item in range(1, 20) if item % 2 != 0]\n",
    "\n",
    "for i in list_comp:\n",
    "    triple = i * 3\n",
    "    int_list.append(triple)\n",
    "    \n",
    "int_list\n"
   ]
  },
  {
   "cell_type": "markdown",
   "metadata": {},
   "source": [
    "### Problem 2\n",
    "Write a Python code fragment in the code cell below that inputs a line of text from the user, tokenizes the text using space characters as delimiters and outputs only those words ending with the letters `'ing'`. Ignore the case of the words. (__7 pts.__)"
   ]
  },
  {
   "cell_type": "code",
   "execution_count": 4,
   "metadata": {},
   "outputs": [
    {
     "name": "stdin",
     "output_type": "stream",
     "text": [
      "Enter a line of text:  starting \n"
     ]
    },
    {
     "name": "stdout",
     "output_type": "stream",
     "text": [
      "The words that ends with ing\n",
      "starting\n"
     ]
    }
   ],
   "source": [
    "s = input('Enter a line of text: ').lower() \n",
    "words = s.split() \n",
    "starts_with_str = 'ing' \n",
    "print(f'The words that ends with {starts_with_str}')\n",
    "for word in words: \n",
    "  if word.endswith(starts_with_str): \n",
    "    print(word)        "
   ]
  },
  {
   "cell_type": "markdown",
   "metadata": {},
   "source": [
    "### Problem 3\n",
    "Write a Python code fragment in the code cell below that defines a function named `calc_qual_pts` that accepts a letter grade (a string) as a parameter and returns the GPA quality points, as specified below, <u>using a dictionary that maps each letter grade to its associated quality points</u>. If the grade is not one of the standard letter grades (A, B, C, D, F), return -1 to indicate this. Test the function with grades of \"A\", \"C\", and \"X\". (__8 pts.__)\n",
    "\n",
    "| Grade | Quality Points |\n",
    "| ----- | -------------- |\n",
    "| A     | 4.0            |\n",
    "| B     | 3.0            |\n",
    "| C     | 2.0            |\n",
    "| D     | 1.0            |\n",
    "| F     | 0.0            |\n",
    "| Otherwise | -1         |"
   ]
  },
  {
   "cell_type": "code",
   "execution_count": 2,
   "metadata": {},
   "outputs": [
    {
     "name": "stdout",
     "output_type": "stream",
     "text": [
      "4.0\n",
      "2.0\n",
      "-1\n"
     ]
    }
   ],
   "source": [
    "def calc_qual_pts(grade):\n",
    "    QA_points = {'A': 4.0, 'B': 3.0,'C': 2.0,'D': 1.0, 'F': 0.0, 'X': -1}\n",
    "    return QA_points[grade]\n",
    "\n",
    "print(calc_qual_pts('A'))\n",
    "print(calc_qual_pts('C'))\n",
    "print(calc_qual_pts('X'))"
   ]
  },
  {
   "cell_type": "markdown",
   "metadata": {},
   "source": [
    "### Problem 4\n",
    "Write a Python code fragment in the code cell below that implements a function named `merge_to_dict` that will accept two parallel lists as parameters, the `key_list` and the `value_list`, and will return a dictionary of the associated key-value pairs. Write your own loop to accomplish this (don't just call `zip`!). You may assume that the lists are the same length. Test with a list of 3 names as keys and a list of 3 test scores as the values. (__7 pts.__)"
   ]
  },
  {
   "cell_type": "code",
   "execution_count": 6,
   "metadata": {},
   "outputs": [
    {
     "ename": "NameError",
     "evalue": "name 'key_list' is not defined",
     "output_type": "error",
     "traceback": [
      "\u001b[1;31m---------------------------------------------------------------------------\u001b[0m",
      "\u001b[1;31mNameError\u001b[0m                                 Traceback (most recent call last)",
      "\u001b[1;32m<ipython-input-6-823ca27ce177>\u001b[0m in \u001b[0;36m<module>\u001b[1;34m\u001b[0m\n\u001b[0;32m     12\u001b[0m     \u001b[1;32mreturn\u001b[0m \u001b[0mval_dict\u001b[0m\u001b[1;33m\u001b[0m\u001b[1;33m\u001b[0m\u001b[0m\n\u001b[0;32m     13\u001b[0m \u001b[1;33m\u001b[0m\u001b[0m\n\u001b[1;32m---> 14\u001b[1;33m \u001b[0mdictionary\u001b[0m \u001b[1;33m=\u001b[0m \u001b[0mdict\u001b[0m\u001b[1;33m(\u001b[0m\u001b[0mzip\u001b[0m\u001b[1;33m(\u001b[0m\u001b[0mkey_list\u001b[0m\u001b[1;33m,\u001b[0m \u001b[0mvalue_list\u001b[0m\u001b[1;33m)\u001b[0m\u001b[1;33m)\u001b[0m\u001b[1;33m\u001b[0m\u001b[1;33m\u001b[0m\u001b[0m\n\u001b[0m\u001b[0;32m     15\u001b[0m \u001b[1;33m\u001b[0m\u001b[0m\n\u001b[0;32m     16\u001b[0m \u001b[0mkey_list\u001b[0m \u001b[1;33m=\u001b[0m \u001b[1;33m[\u001b[0m\u001b[1;34m'Scott'\u001b[0m\u001b[1;33m,\u001b[0m \u001b[1;34m'Jason'\u001b[0m\u001b[1;33m,\u001b[0m \u001b[1;34m'Matt'\u001b[0m\u001b[1;33m]\u001b[0m\u001b[1;33m\u001b[0m\u001b[1;33m\u001b[0m\u001b[0m\n",
      "\u001b[1;31mNameError\u001b[0m: name 'key_list' is not defined"
     ]
    }
   ],
   "source": [
    "def merge_to_dict(key_list, value_list):\n",
    "     \n",
    "    key_list = []\n",
    "    value = []\n",
    "    val_dict = {}\n",
    "        \n",
    "    for k, v in  val_dict(zip(key_list, value_list)):\n",
    "              \n",
    "        return val_dict\n",
    "\n",
    "\n",
    "key = ['Scott', 'Jason', 'Matt']\n",
    "value = [90, 80 , 70]\n",
    "\n",
    "print(merge_to_dict(key, value))   "
   ]
  },
  {
   "cell_type": "markdown",
   "metadata": {},
   "source": [
    "### Problem 5\n",
    "Use _arange_ to create a 2-by-2 _ndarray_ containing the numbers 1–4. Use _broadcasting_ to perform each of the following operations on the original array creating a new _ndarray_ and printing its contents: (__2 pts. each__)\n",
    "1. Cube every element of the array.\n",
    "1. Add 20 to every element of the array.\n",
    "1. Multiply every element of the array by 5."
   ]
  },
  {
   "cell_type": "code",
   "execution_count": 14,
   "metadata": {},
   "outputs": [
    {
     "name": "stdout",
     "output_type": "stream",
     "text": [
      "[ 1  8 27 64]\n",
      "[21 22 23 24]\n",
      "[ 5 10 15 20]\n"
     ]
    }
   ],
   "source": [
    "import numpy as np\n",
    "\n",
    "num_array = np.arange(1, 5)\n",
    "cube = num_array ** 3\n",
    "\n",
    "twenty = num_array.copy()\n",
    "twenty_array = twenty + 20\n",
    "\n",
    "multi = num_array.copy()\n",
    "five_array = multi * 5\n",
    "\n",
    "print(cube)\n",
    "print(twenty_array)\n",
    "print(five_array)"
   ]
  },
  {
   "cell_type": "markdown",
   "metadata": {},
   "source": [
    "### Problem 6 - Extra Credit\n",
    "Use a regular expressions and the `sub` function to remove any extra spaces between words of an input string and display the results. For example,<br />`'Hello   There    World'`<br />should become<br />`'Hello There World'`<br /> (__5 pts. Extra Credit__)"
   ]
  },
  {
   "cell_type": "code",
   "execution_count": 17,
   "metadata": {},
   "outputs": [
    {
     "ename": "NameError",
     "evalue": "name 'a' is not defined",
     "output_type": "error",
     "traceback": [
      "\u001b[1;31m---------------------------------------------------------------------------\u001b[0m",
      "\u001b[1;31mNameError\u001b[0m                                 Traceback (most recent call last)",
      "\u001b[1;32m<ipython-input-17-58d9e3148ba0>\u001b[0m in \u001b[0;36m<module>\u001b[1;34m\u001b[0m\n\u001b[0;32m      1\u001b[0m \u001b[1;32mimport\u001b[0m \u001b[0mre\u001b[0m\u001b[1;33m\u001b[0m\u001b[1;33m\u001b[0m\u001b[0m\n\u001b[1;32m----> 2\u001b[1;33m \u001b[0mre\u001b[0m\u001b[1;33m.\u001b[0m\u001b[0msub\u001b[0m\u001b[1;33m(\u001b[0m\u001b[1;34mr'\\t'\u001b[0m\u001b[1;33m,\u001b[0m \u001b[1;34m', '\u001b[0m\u001b[1;33m[\u001b[0m\u001b[0ma\u001b[0m\u001b[1;33m-\u001b[0m\u001b[0mz\u001b[0m\u001b[1;33m]\u001b[0m\u001b[1;33m[\u001b[0m\u001b[0mA\u001b[0m\u001b[1;33m-\u001b[0m\u001b[0mZ\u001b[0m\u001b[1;33m]\u001b[0m\u001b[1;33m)\u001b[0m\u001b[1;33m\u001b[0m\u001b[1;33m\u001b[0m\u001b[0m\n\u001b[0m",
      "\u001b[1;31mNameError\u001b[0m: name 'a' is not defined"
     ]
    }
   ],
   "source": [
    "import re \n",
    "\n",
    "re.sub(r'\\t', ', '[a-z][A-Z])\n",
    "\n",
    "input "
   ]
  },
  {
   "cell_type": "markdown",
   "metadata": {},
   "source": [
    "Be sure to save and exit your Jupyter Notebook and Shutdown Jupyter Lab (from the __File__ menu) if using Ananconda before you submit your notebook on Blackboard for grading. If using Colab, be sure to Download (from the __File__ menu) back to your local file system before submitting to Blackboard.\n",
    "Make sure you don't submit the empty starting notebook by accident."
   ]
  }
 ],
 "metadata": {
  "kernelspec": {
   "display_name": "Python 3",
   "language": "python",
   "name": "python3"
  },
  "language_info": {
   "codemirror_mode": {
    "name": "ipython",
    "version": 3
   },
   "file_extension": ".py",
   "mimetype": "text/x-python",
   "name": "python",
   "nbconvert_exporter": "python",
   "pygments_lexer": "ipython3",
   "version": "3.8.8"
  }
 },
 "nbformat": 4,
 "nbformat_minor": 4
}
