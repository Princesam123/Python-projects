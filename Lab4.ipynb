{
 "cells": [
  {
   "cell_type": "markdown",
   "metadata": {
    "id": "lN1bE03duXEt"
   },
   "source": [
    "# CIS 443-01 - Analytics Programming\n",
    "## Lab 4\n",
    "__Grading ID__: P8330 (double click the cell in Jupyter to edit, find ID in Blackboard Gradebook)<br>\n",
    "__Due__: Monday, September 27 (by 11:59 PM)<br />\n",
    "__Worth__: 25 pts."
   ]
  },
  {
   "cell_type": "code",
   "execution_count": 8,
   "metadata": {},
   "outputs": [
    {
     "name": "stdout",
     "output_type": "stream",
     "text": [
      "For letter grade A the grade is 4.0\n",
      "For letter grade C the grade is 2.0\n",
      "For letter grade X the grade is -1\n"
     ]
    }
   ],
   "source": [
    "four = 'A'\n",
    "three = 'B'\n",
    "two = 'C'\n",
    "one = 'D'\n",
    "zero = 'F'\n",
    "neg = 'X'\n",
    "\n",
    "\n",
    "def calc_qual_pts(grade): \n",
    "    if grade == 'A': \n",
    "        return 4.0 \n",
    "    elif grade == 'B':\n",
    "        return 3.0\n",
    "    elif grade == 'C':\n",
    "        return 2.0\n",
    "    elif grade == 'D':\n",
    "        return 1.0\n",
    "    elif grade == 'F':\n",
    "        return 0.0\n",
    "    else:\n",
    "        return -1\n",
    "\n",
    "print('For letter grade A the grade is', calc_qual_pts(four))\n",
    "print('For letter grade C the grade is',calc_qual_pts(two))\n",
    "print('For letter grade X the grade is',calc_qual_pts(neg))\n",
    "\n"
   ]
  },
  {
   "cell_type": "code",
   "execution_count": 21,
   "metadata": {},
   "outputs": [
    {
     "name": "stdout",
     "output_type": "stream",
     "text": [
      "1\n",
      "3\n",
      "5\n",
      "7\n",
      "9\n",
      "11\n",
      "13\n",
      "15\n",
      "17\n",
      "19\n",
      "21\n",
      "23\n",
      "25\n",
      "27\n",
      "29\n"
     ]
    }
   ],
   "source": [
    "for i in range (1, 31):\n",
    "    if i % 2 != 0:\n",
    "        print(i)"
   ]
  },
  {
   "cell_type": "code",
   "execution_count": 43,
   "metadata": {},
   "outputs": [
    {
     "name": "stdin",
     "output_type": "stream",
     "text": [
      "Enter car year to get safety features: 2005\n"
     ]
    },
    {
     "name": "stdout",
     "output_type": "stream",
     "text": [
      "Probably has seat belts.\n",
      "Probably has antilock brakes.\n",
      "Probably has airbags.\n"
     ]
    }
   ],
   "source": [
    "year = int(input('Enter car year to get safety features:'))\n",
    "\n",
    "if year >= 2000:\n",
    "    print('Probably has seat belts.')\n",
    "    print('Probably has antilock brakes.')\n",
    "    print('Probably has airbags.')  \n",
    "elif year >= 1990:\n",
    "    print('Probably has seat belts.')\n",
    "    print('Probably has antilock brakes.')\n",
    "elif year >= 1970:\n",
    "    print('Probably has seat belts.')\n",
    "elif year <= 1969 and car_year >= 1885:\n",
    "    print('Few safety features.')\n",
    "else:\n",
    "    print(\"Cars haven't been invented yet.\")"
   ]
  },
  {
   "cell_type": "code",
   "execution_count": null,
   "metadata": {},
   "outputs": [],
   "source": [
    " num = int(input('enter a non-negative integer:'))\n",
    "b = num \n",
    "total = num\n",
    "for i in range(num - 1):\n",
    "    b = b - 1\n",
    "    total *= b\n",
    "print(total)"
   ]
  },
  {
   "cell_type": "code",
   "execution_count": 42,
   "metadata": {},
   "outputs": [
    {
     "name": "stdin",
     "output_type": "stream",
     "text": [
      "enter a non-negative integer 3\n"
     ]
    },
    {
     "name": "stdout",
     "output_type": "stream",
     "text": [
      "The factorial of the interger is 6\n"
     ]
    }
   ],
   "source": [
    "non_neg = int(input('enter a non-negative integer'))\n",
    "\n",
    "\n",
    "def factorial():\n",
    "    n = non_neg\n",
    "    run = non_neg # running product\n",
    "    \n",
    "    for i  in range (non_neg - 1):\n",
    "       \n",
    "        n = n - 1\n",
    "        run *= n\n",
    "    \n",
    "    return run\n",
    "\n",
    "print('The factorial of the interger is', factorial())\n",
    "    \n",
    "    "
   ]
  },
  {
   "cell_type": "code",
   "execution_count": 54,
   "metadata": {},
   "outputs": [
    {
     "name": "stdin",
     "output_type": "stream",
     "text": [
      "Enter the five weights:  1 2 3 4 6\n"
     ]
    },
    {
     "name": "stdout",
     "output_type": "stream",
     "text": [
      "[1, 2, 3, 4, 6]\n"
     ]
    },
    {
     "ename": "TypeError",
     "evalue": "'int' object is not iterable",
     "output_type": "error",
     "traceback": [
      "\u001b[1;31m---------------------------------------------------------------------------\u001b[0m",
      "\u001b[1;31mTypeError\u001b[0m                                 Traceback (most recent call last)",
      "\u001b[1;32m<ipython-input-54-d8b243e6de9c>\u001b[0m in \u001b[0;36m<module>\u001b[1;34m\u001b[0m\n\u001b[0;32m     11\u001b[0m \u001b[1;32mfor\u001b[0m \u001b[0mi\u001b[0m \u001b[1;32min\u001b[0m \u001b[0mweights\u001b[0m\u001b[1;33m:\u001b[0m\u001b[1;33m\u001b[0m\u001b[1;33m\u001b[0m\u001b[0m\n\u001b[0;32m     12\u001b[0m     \u001b[0mvalue\u001b[0m \u001b[1;33m+=\u001b[0m \u001b[0mi\u001b[0m\u001b[1;33m\u001b[0m\u001b[1;33m\u001b[0m\u001b[0m\n\u001b[1;32m---> 13\u001b[1;33m     \u001b[0mprint\u001b[0m\u001b[1;33m(\u001b[0m\u001b[0mmin\u001b[0m\u001b[1;33m(\u001b[0m\u001b[0mvalue\u001b[0m\u001b[1;33m)\u001b[0m\u001b[1;33m)\u001b[0m\u001b[1;33m\u001b[0m\u001b[1;33m\u001b[0m\u001b[0m\n\u001b[0m\u001b[0;32m     14\u001b[0m     \u001b[0mprint\u001b[0m\u001b[1;33m(\u001b[0m\u001b[0mmax\u001b[0m\u001b[1;33m(\u001b[0m\u001b[0mvalue\u001b[0m\u001b[1;33m)\u001b[0m\u001b[1;33m)\u001b[0m\u001b[1;33m\u001b[0m\u001b[1;33m\u001b[0m\u001b[0m\n\u001b[0;32m     15\u001b[0m     \u001b[0mprint\u001b[0m\u001b[1;33m(\u001b[0m\u001b[0mformat\u001b[0m\u001b[1;33m(\u001b[0m\u001b[0mavg\u001b[0m\u001b[1;33m,\u001b[0m \u001b[1;34m\".2f\"\u001b[0m\u001b[1;33m)\u001b[0m\u001b[1;33m)\u001b[0m\u001b[1;33m\u001b[0m\u001b[1;33m\u001b[0m\u001b[0m\n",
      "\u001b[1;31mTypeError\u001b[0m: 'int' object is not iterable"
     ]
    }
   ],
   "source": [
    "from numpy import mean\n",
    "\n",
    "weights = list (map (int, input ('Enter the five weights: '). split()))\n",
    "\n",
    "value  = 0\n",
    "\n",
    "avg = mean(weights)\n",
    "print (weights)\n",
    "\n",
    "\n",
    "for i in weights:\n",
    "    value += i\n",
    "    print(min(value))\n",
    "    print(max(value))\n",
    "    \n",
    "print(format(avg, \".2f\"))\n",
    "    \n",
    "    "
   ]
  },
  {
   "cell_type": "markdown",
   "metadata": {
    "id": "P2g2ldwsuXEx"
   },
   "source": [
    "### Directions\n",
    "In the code cell below, write Python code to accomplish the following using what you've learned through Chapter 4. Let's continue our exploration of Pi by creating a new estimate using Monte Carlo simulation. The approach will follow Example 1 from the following article:\n",
    "\n",
    "<a href=\"https://medium.com/cantors-paradise/estimating-%CF%80-using-monte-carlo-simulations-3459a84b5ef9\" target=\"_blank\">Estimating π using Monte Carlo simulations</a>\n",
    "\n",
    "This technique relies on simulation and random numbers to estimate the value of Pi essentially by throwing darts at a board inscribed with a circle and counting how many darts land inside the circle and how many land outside the circle. For everyone's safety, let's stick to a computer-based simulation! To simplify, we'll use the first quadrant unit square as suggested in the article.\n",
    "\n",
    "The approach will work as follows:\n",
    "1. For each dart thrown, generate its coordinates, _x_ and _y_, using a random uniform distribution from 0 - 1. The Python function __random.random__ will include the 0 endpoint but exclude the 1 endpoint. The Python function __random.uniform__ may include the 1 endpoint. See <a href=\"https://docs.python.org/3/library/random.html\" target=\"_blank\">Python documenation for random module</a> for more details.\n",
    "1. If the dart is inside the quarter-circle, count it. A dart is inside the quarter-circle if its distance from the origin (0, 0) is <= 1. You may use the simplified distance formula: $D = \\sqrt{x^2 + y^2}$\n",
    "1. After all the darts have been thrown and counted, Pi may be estimated as: $π = 4 \\cdot \\frac{NumDartsInsideCircle}{TotalNumDarts}$\n",
    "\n",
    "Write a function named __estimate_pi_mc__ that takes a single integer parameter, the number of darts to throw, and returns the estimate of Pi using this Monte Carlo simulation approach. Also include code that will prompt the user for the number of darts they wish to use in the estimate. Call your function with this value and display the estimate with 6 digits of precision. Use sentinel-control to repeat this process until the user enters a number of darts that is <= 0. (25 pts.)\n"
   ]
  },
  {
   "cell_type": "code",
   "execution_count": 8,
   "metadata": {
    "id": "BT0x-iUNuXEy"
   },
   "outputs": [
    {
     "name": "stdout",
     "output_type": "stream",
     "text": [
      " Monte Carlo Pi Estimator \n"
     ]
    },
    {
     "name": "stdin",
     "output_type": "stream",
     "text": [
      "Enter the number of darts thrown? : 10\n"
     ]
    },
    {
     "name": "stdout",
     "output_type": "stream",
     "text": [
      "For 10 darts, the estimate of Pi is 3.200000\n"
     ]
    },
    {
     "name": "stdin",
     "output_type": "stream",
     "text": [
      "Enter the number of darts thrown (zero or less to quit)?: 2\n"
     ]
    },
    {
     "name": "stdout",
     "output_type": "stream",
     "text": [
      "For 2 darts, the estimate of Pi is 2.000000\n"
     ]
    },
    {
     "name": "stdin",
     "output_type": "stream",
     "text": [
      "Enter the number of darts thrown (zero or less to quit)?: 1\n"
     ]
    },
    {
     "name": "stdout",
     "output_type": "stream",
     "text": [
      "For 1 darts, the estimate of Pi is 4.000000\n"
     ]
    },
    {
     "name": "stdin",
     "output_type": "stream",
     "text": [
      "Enter the number of darts thrown (zero or less to quit)?: 6\n"
     ]
    },
    {
     "name": "stdout",
     "output_type": "stream",
     "text": [
      "For 6 darts, the estimate of Pi is 4.000000\n"
     ]
    },
    {
     "name": "stdin",
     "output_type": "stream",
     "text": [
      "Enter the number of darts thrown (zero or less to quit)?: 8\n"
     ]
    },
    {
     "name": "stdout",
     "output_type": "stream",
     "text": [
      "For 8 darts, the estimate of Pi is 3.500000\n"
     ]
    },
    {
     "name": "stdin",
     "output_type": "stream",
     "text": [
      "Enter the number of darts thrown (zero or less to quit)?: 0\n"
     ]
    }
   ],
   "source": [
    "# Put code here\n",
    "import math\n",
    "import random\n",
    "\n",
    "def estimate_pi_mc (darts):\n",
    "    Incircle = 0\n",
    "    for i in range (darts):\n",
    "        # generated darts coordinates \n",
    "        x = random.uniform (0, 1)\n",
    "        y = random.uniform (0, 1)\n",
    "        formula = math.sqrt((x ** 2) + (y ** 2)) # distance formula\n",
    "        if (formula <= 1):\n",
    "            Incircle += 1 \n",
    "    return (4 * Incircle / darts ) # PI estimate\n",
    "    \n",
    "print (' Monte Carlo Pi Estimator ') \n",
    "darts = int(input ('Enter the number of darts thrown? :'))\n",
    "while darts > 0: # sentinel controlled process \n",
    "    Est_of_Pi = estimate_pi_mc(darts) # calling the function \n",
    "    print (f'For {darts} darts, the estimate of Pi is {Est_of_Pi:.6f}') # function output with 6 digits of precision\n",
    "    darts = int(input ('Enter the number of darts thrown (zero or less to quit)?:'))"
   ]
  },
  {
   "cell_type": "markdown",
   "metadata": {
    "id": "q8s79p9EuXEz"
   },
   "source": [
    "Be sure to save and exit your Jupyter Notebook and Shutdown Jupyter Lab (from the __File__ menu) if using Ananconda before you submit your notebook on Blackboard for grading. If using Colab, be sure to Download (from the __File__ menu) back to your local file system before submitting to Blackboard.\n",
    "Make sure you don't submit the empty starting notebook by accident."
   ]
  }
 ],
 "metadata": {
  "colab": {
   "collapsed_sections": [],
   "name": "Lab4.ipynb",
   "provenance": []
  },
  "kernelspec": {
   "display_name": "Python 3",
   "language": "python",
   "name": "python3"
  },
  "language_info": {
   "codemirror_mode": {
    "name": "ipython",
    "version": 3
   },
   "file_extension": ".py",
   "mimetype": "text/x-python",
   "name": "python",
   "nbconvert_exporter": "python",
   "pygments_lexer": "ipython3",
   "version": "3.8.8"
  }
 },
 "nbformat": 4,
 "nbformat_minor": 4
}
