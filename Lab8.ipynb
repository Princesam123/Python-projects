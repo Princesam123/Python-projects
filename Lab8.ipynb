{
 "cells": [
  {
   "cell_type": "markdown",
   "metadata": {
    "id": "EdV2JXRL_KWg"
   },
   "source": [
    "# CIS 443-01 - Analytics Programming\n",
    "## Lab 8\n",
    "__Grading ID__: P8330(double click the cell in Jupyter to edit)<br>\n",
    "__Due__: Monday, November 15 (by 11:59 PM)<br />\n",
    "__Worth__: 25 pts."
   ]
  },
  {
   "cell_type": "markdown",
   "metadata": {
    "id": "Zp_4VjHM_KWk"
   },
   "source": [
    "### Directions\n",
    "In the code cell below, write Python code to complete __Exercise 9.3 (Class Average: Writing Student Records to a CSV File)__\n",
    "<p>An instructor teaches a class in which each student takes three exams. The instructor would like to store this information in a file named grades.csv for later use. Write code that enables an instructor to enter each student&rsquo;s first name and last name as strings and the student&rsquo;s three exam grades as integers. Use the <strong>csv</strong> module to write each record into the <em>grades.csv</em> file. Each record should be a single line of text in the following CSV format:</p>\n",
    "<p><em>firstname,lastname,exam1grade,exam2grade,exam3grade</em></p>\n",
    "Test your source code and save your work before submission. (12.5 pts.)"
   ]
  },
  {
   "cell_type": "code",
   "execution_count": 9,
   "metadata": {
    "id": "vrfCkemj_KWm"
   },
   "outputs": [
    {
     "name": "stdin",
     "output_type": "stream",
     "text": [
      "Enter student's first name:  sam\n",
      "Enter student's last name:  scott\n",
      "   Enter exam 1 score:  23\n",
      "   Enter exam 2 score:  21\n",
      "   Enter exam 3 score:  12\n",
      "More students to enter? (y/n):  n\n"
     ]
    },
    {
     "name": "stdout",
     "output_type": "stream",
     "text": [
      "\n",
      "Writing Completed.\n",
      "\n"
     ]
    }
   ],
   "source": [
    "# Put first part of Lab 8 code here\n",
    "import csv\n",
    "\n",
    "excelfile = 'grades.csv' \n",
    "num_exams = 3           \n",
    "more_data = 'y'         \n",
    "\n",
    "with open(excelfile, mode='w', newline='') as grades: \n",
    "    writer = csv.writer(grades)                      \n",
    "    \n",
    "    while more_data == 'y':\n",
    "        output_list = [] \n",
    "        f_name = input(\"Enter student's first name: \")\n",
    "        output_list.append(f_name)\n",
    "        l_name = input(\"Enter student's last name: \")\n",
    "        output_list.append(l_name)\n",
    "        \n",
    "        for i in range(num_exams):\n",
    "            exam_score = int(input(f'   Enter exam {i+1} score: '))\n",
    "            output_list.append(exam_score)\n",
    "        \n",
    "        writer.writerow(output_list) \n",
    "        \n",
    "        more_data = input('More students to enter? (y/n): ').lower()\n",
    "        \n",
    "        print(\"\\nWriting Completed.\\n\")"
   ]
  },
  {
   "cell_type": "markdown",
   "metadata": {
    "id": "-ljGWCqb_KWn"
   },
   "source": [
    "In the code cell below, write Python code to complete __Exercises 9.4 and 9.5 (Creating a Grade Report from a CSV File)__\n",
    "<p>Use the <strong>csv</strong> module to read the <em>grades.csv</em> file from the previous exercise. Create a tabular grade report that displays each student&rsquo;s average to the right of that student&rsquo;s row (with their name and test scores) and the class average for each exam below that exam&rsquo;s column. An example report appears below.</p>\n",
    "\n",
    "<pre>\n",
    "First Name      Last Name       Exam 1 Exam 2 Exam 3 Average\n",
    "--------------- --------------- ------ ------ ------ -------\n",
    "John            Smith             98.0   92.0   95.0    95.0\n",
    "Jane            Doe               99.0   93.0   91.0    94.3\n",
    "Malik           Jones            100.0   94.0   97.0    97.0\n",
    "\n",
    "       ---Overall Exam Avgs.---   99.0   93.0   94.3\n",
    "</pre>\n",
    "Test your source code and save your work before submission. (12.5 pts.)"
   ]
  },
  {
   "cell_type": "code",
   "execution_count": 10,
   "metadata": {
    "id": "OI03_lDz_KWo"
   },
   "outputs": [
    {
     "name": "stdout",
     "output_type": "stream",
     "text": [
      "First Name      Last Name       Exam 1 Exam 2 Exam 3 Average\n",
      "--------------- --------------- ------ ------ ------ -------\n",
      "sam             scott             23.0   21.0   12.0    18.7\n",
      "\n",
      "       ---Overall Exam Avgs.---   23.0   10.5    4.0 \n"
     ]
    }
   ],
   "source": [
    "# Put second part of Lab 8 code here\n",
    "import csv\n",
    "\n",
    "filename = 'grades.csv' \n",
    "num_exams = 3           \n",
    "\n",
    "overall_exam_sums = [0]*num_exams \n",
    "num_students = 0 \n",
    "\n",
    "print(f'{\"First Name\":<15} {\"Last Name\":<15}', end=' ')\n",
    "for i in range(num_exams):\n",
    "    print(f'Exam {i+1}', end=' ')\n",
    "print(f'Average')\n",
    "print('-'*15, '-'*15, end=' ')\n",
    "for i in range(num_exams):\n",
    "    print('-'*6, end=' ')\n",
    "print('-'*7)\n",
    "\n",
    "with open(filename, 'r', newline='') as grades: \n",
    "    reader = csv.reader(grades)                 \n",
    "    \n",
    "    for record in reader:\n",
    "        \n",
    "        std_exam_sum = 0 \n",
    "        first_name = record[0] \n",
    "        last_name = record[1]  \n",
    "        exam_list = record[2:] \n",
    "        print(f'{first_name:<15} {last_name:<15}', end=' ')\n",
    "        for i in range(num_exams):\n",
    "            exam = int(exam_list[i])\n",
    "            std_exam_sum += exam \n",
    "            overall_exam_sums[i] += exam \n",
    "            print(f'{exam:6.1f}', end=' ')\n",
    "        std_exam_avg = std_exam_sum/num_exams \n",
    "        print(f'{std_exam_avg:7.1f}')\n",
    "    \n",
    "print(f'\\n{\"---Overall Exam Avgs.---\":>31}', end=' ')\n",
    "for i in range(num_exams):\n",
    "    num_students += 1 \n",
    "    exam_avg = overall_exam_sums[i] / num_students \n",
    "    print(f'{exam_avg:6.1f}', end=' ')\n",
    "print()"
   ]
  },
  {
   "cell_type": "code",
   "execution_count": null,
   "metadata": {},
   "outputs": [],
   "source": []
  },
  {
   "cell_type": "code",
   "execution_count": null,
   "metadata": {},
   "outputs": [],
   "source": []
  },
  {
   "cell_type": "code",
   "execution_count": 2,
   "metadata": {},
   "outputs": [
    {
     "ename": "KeyError",
     "evalue": "\"['Ratings'] not in index\"",
     "output_type": "error",
     "traceback": [
      "\u001b[1;31m---------------------------------------------------------------------------\u001b[0m",
      "\u001b[1;31mKeyError\u001b[0m                                  Traceback (most recent call last)",
      "\u001b[1;32m~\\AppData\\Local\\Temp/ipykernel_15288/3623371093.py\u001b[0m in \u001b[0;36m<module>\u001b[1;34m\u001b[0m\n\u001b[0;32m     50\u001b[0m \u001b[1;33m\u001b[0m\u001b[0m\n\u001b[0;32m     51\u001b[0m \u001b[1;31m# subset of columns\u001b[0m\u001b[1;33m\u001b[0m\u001b[1;33m\u001b[0m\u001b[1;33m\u001b[0m\u001b[0m\n\u001b[1;32m---> 52\u001b[1;33m \u001b[0msub\u001b[0m \u001b[1;33m=\u001b[0m \u001b[0mdf\u001b[0m\u001b[1;33m[\u001b[0m\u001b[1;33m[\u001b[0m\u001b[1;34m'Ratings'\u001b[0m\u001b[1;33m,\u001b[0m \u001b[1;34m'Total_Review'\u001b[0m\u001b[1;33m,\u001b[0m \u001b[1;34m'polar_rating'\u001b[0m\u001b[1;33m,\u001b[0m \u001b[1;34m'S_text'\u001b[0m\u001b[1;33m,\u001b[0m \u001b[1;34m'Sent_agree'\u001b[0m\u001b[1;33m]\u001b[0m\u001b[1;33m]\u001b[0m\u001b[1;33m\u001b[0m\u001b[1;33m\u001b[0m\u001b[0m\n\u001b[0m\u001b[0;32m     53\u001b[0m \u001b[0mprint\u001b[0m\u001b[1;33m(\u001b[0m\u001b[0msub\u001b[0m\u001b[1;33m)\u001b[0m\u001b[1;33m\u001b[0m\u001b[1;33m\u001b[0m\u001b[0m\n\u001b[0;32m     54\u001b[0m \u001b[1;33m\u001b[0m\u001b[0m\n",
      "\u001b[1;32m~\\anaconda3\\lib\\site-packages\\pandas\\core\\frame.py\u001b[0m in \u001b[0;36m__getitem__\u001b[1;34m(self, key)\u001b[0m\n\u001b[0;32m   3462\u001b[0m             \u001b[1;32mif\u001b[0m \u001b[0mis_iterator\u001b[0m\u001b[1;33m(\u001b[0m\u001b[0mkey\u001b[0m\u001b[1;33m)\u001b[0m\u001b[1;33m:\u001b[0m\u001b[1;33m\u001b[0m\u001b[1;33m\u001b[0m\u001b[0m\n\u001b[0;32m   3463\u001b[0m                 \u001b[0mkey\u001b[0m \u001b[1;33m=\u001b[0m \u001b[0mlist\u001b[0m\u001b[1;33m(\u001b[0m\u001b[0mkey\u001b[0m\u001b[1;33m)\u001b[0m\u001b[1;33m\u001b[0m\u001b[1;33m\u001b[0m\u001b[0m\n\u001b[1;32m-> 3464\u001b[1;33m             \u001b[0mindexer\u001b[0m \u001b[1;33m=\u001b[0m \u001b[0mself\u001b[0m\u001b[1;33m.\u001b[0m\u001b[0mloc\u001b[0m\u001b[1;33m.\u001b[0m\u001b[0m_get_listlike_indexer\u001b[0m\u001b[1;33m(\u001b[0m\u001b[0mkey\u001b[0m\u001b[1;33m,\u001b[0m \u001b[0maxis\u001b[0m\u001b[1;33m=\u001b[0m\u001b[1;36m1\u001b[0m\u001b[1;33m)\u001b[0m\u001b[1;33m[\u001b[0m\u001b[1;36m1\u001b[0m\u001b[1;33m]\u001b[0m\u001b[1;33m\u001b[0m\u001b[1;33m\u001b[0m\u001b[0m\n\u001b[0m\u001b[0;32m   3465\u001b[0m \u001b[1;33m\u001b[0m\u001b[0m\n\u001b[0;32m   3466\u001b[0m         \u001b[1;31m# take() does not accept boolean indexers\u001b[0m\u001b[1;33m\u001b[0m\u001b[1;33m\u001b[0m\u001b[1;33m\u001b[0m\u001b[0m\n",
      "\u001b[1;32m~\\anaconda3\\lib\\site-packages\\pandas\\core\\indexing.py\u001b[0m in \u001b[0;36m_get_listlike_indexer\u001b[1;34m(self, key, axis)\u001b[0m\n\u001b[0;32m   1312\u001b[0m             \u001b[0mkeyarr\u001b[0m\u001b[1;33m,\u001b[0m \u001b[0mindexer\u001b[0m\u001b[1;33m,\u001b[0m \u001b[0mnew_indexer\u001b[0m \u001b[1;33m=\u001b[0m \u001b[0max\u001b[0m\u001b[1;33m.\u001b[0m\u001b[0m_reindex_non_unique\u001b[0m\u001b[1;33m(\u001b[0m\u001b[0mkeyarr\u001b[0m\u001b[1;33m)\u001b[0m\u001b[1;33m\u001b[0m\u001b[1;33m\u001b[0m\u001b[0m\n\u001b[0;32m   1313\u001b[0m \u001b[1;33m\u001b[0m\u001b[0m\n\u001b[1;32m-> 1314\u001b[1;33m         \u001b[0mself\u001b[0m\u001b[1;33m.\u001b[0m\u001b[0m_validate_read_indexer\u001b[0m\u001b[1;33m(\u001b[0m\u001b[0mkeyarr\u001b[0m\u001b[1;33m,\u001b[0m \u001b[0mindexer\u001b[0m\u001b[1;33m,\u001b[0m \u001b[0maxis\u001b[0m\u001b[1;33m)\u001b[0m\u001b[1;33m\u001b[0m\u001b[1;33m\u001b[0m\u001b[0m\n\u001b[0m\u001b[0;32m   1315\u001b[0m \u001b[1;33m\u001b[0m\u001b[0m\n\u001b[0;32m   1316\u001b[0m         if needs_i8_conversion(ax.dtype) or isinstance(\n",
      "\u001b[1;32m~\\anaconda3\\lib\\site-packages\\pandas\\core\\indexing.py\u001b[0m in \u001b[0;36m_validate_read_indexer\u001b[1;34m(self, key, indexer, axis)\u001b[0m\n\u001b[0;32m   1375\u001b[0m \u001b[1;33m\u001b[0m\u001b[0m\n\u001b[0;32m   1376\u001b[0m             \u001b[0mnot_found\u001b[0m \u001b[1;33m=\u001b[0m \u001b[0mlist\u001b[0m\u001b[1;33m(\u001b[0m\u001b[0mensure_index\u001b[0m\u001b[1;33m(\u001b[0m\u001b[0mkey\u001b[0m\u001b[1;33m)\u001b[0m\u001b[1;33m[\u001b[0m\u001b[0mmissing_mask\u001b[0m\u001b[1;33m.\u001b[0m\u001b[0mnonzero\u001b[0m\u001b[1;33m(\u001b[0m\u001b[1;33m)\u001b[0m\u001b[1;33m[\u001b[0m\u001b[1;36m0\u001b[0m\u001b[1;33m]\u001b[0m\u001b[1;33m]\u001b[0m\u001b[1;33m.\u001b[0m\u001b[0munique\u001b[0m\u001b[1;33m(\u001b[0m\u001b[1;33m)\u001b[0m\u001b[1;33m)\u001b[0m\u001b[1;33m\u001b[0m\u001b[1;33m\u001b[0m\u001b[0m\n\u001b[1;32m-> 1377\u001b[1;33m             \u001b[1;32mraise\u001b[0m \u001b[0mKeyError\u001b[0m\u001b[1;33m(\u001b[0m\u001b[1;34mf\"{not_found} not in index\"\u001b[0m\u001b[1;33m)\u001b[0m\u001b[1;33m\u001b[0m\u001b[1;33m\u001b[0m\u001b[0m\n\u001b[0m\u001b[0;32m   1378\u001b[0m \u001b[1;33m\u001b[0m\u001b[0m\n\u001b[0;32m   1379\u001b[0m \u001b[1;33m\u001b[0m\u001b[0m\n",
      "\u001b[1;31mKeyError\u001b[0m: \"['Ratings'] not in index\""
     ]
    }
   ],
   "source": [
    "import pandas as pd\n",
    "\n",
    "from textblob import TextBlob\n",
    "\n",
    "\n",
    "# returns the classification of the sentiment of the star rating\n",
    "def review_sent(star_rating):\n",
    "    \n",
    "    pos = 4\n",
    "    neg = 2\n",
    "    \n",
    "    if star_rating >= pos:\n",
    "        sentiment = 'postive'\n",
    "    elif star_rating <= neg:\n",
    "        sentiment = 'negative'\n",
    "    else:\n",
    "        sentiment = 'neutral'\n",
    "        \n",
    "    return sentiment\n",
    "\n",
    "#  returns the classification of the sentiment polarity of the review's text\n",
    "def rating_sent(polarity):\n",
    "    \n",
    "    pos = -0.05\n",
    "    neg = 0.05\n",
    "    \n",
    "    if polarity >= pos:\n",
    "        sentiment = 'postive'\n",
    "    elif polarity <= neg:\n",
    "        sentiment = 'negative'\n",
    "    else:\n",
    "        sentiment = 'neutral'\n",
    "        \n",
    "    return sentiment\n",
    "\n",
    "#Loads the attached csv data into a Pandas dataframe\n",
    "file = 'tripadvisor_hotel_reviews.csv'\n",
    "df = pd.read_csv(file)  \n",
    "\n",
    "# classification of the sentiment of the star rating\n",
    "df['Total_Review'] = [review_sent(star_rating) for star_rating in df['Rating']]\n",
    "                       \n",
    "# add the review's sentiment polarity using each review's text   \n",
    "blobs = [TextBlob(Review) for Review in df['Review']]\n",
    "df['polar_rating'] = [blob.sentiment.polarity for blob in blobs]\n",
    "\n",
    "df['S_text'] = [rating_sent (polarity) for polarity in df['polar_rating']]\n",
    "\n",
    "df['Sent_agree'] = [df.Total_Review[i] == df.S_text[i] for i in range(len(df))]\n",
    "\n",
    "# subset of columns\n",
    "sub = df[['Ratings', 'Total_Review', 'polar_rating', 'S_text', 'Sent_agree']]\n",
    "print(sub)\n",
    "\n",
    "# determines whether the star rating's sentiment agrees with the review text's sentiment \n",
    "agreement  = sub[sub.Sent_agree]\n",
    "disagreement = sub[sub.Sent_agree == False]\n",
    "\n",
    "Total = len(df)         \n",
    "ag = len(agreement)       \n",
    "dis_ag = len(disagreement) \n",
    "\n",
    "# prints the overall star-sentiment agreement\n",
    "print('Overall Star-Sentiment Agreement')\n",
    "print(f'Number of reviews: {Total}')\n",
    "print(f'\\nNumber agree:    {ag:4}, {ag/Total*100:.2f}%')\n",
    "print(f'Number disagree: {dis_ag:4}, {dis_ag/Total*100:.2f}%')\n",
    "\n",
    "\n",
    "# Print table header\n",
    "print('\\nRating |Total Reviews|Num Agree|% Agree|Num Disagree|% Disagree')\n",
    "print('------------|-------------|---------|-------|------------|----------')\n",
    "\n",
    "# ratings brake down\n",
    "for star_rating in range(5,0,-1):\n",
    "    \n",
    "    star_sub = sub[sub.Rating == star_rating]\n",
    "    star_agree = agreement[agreement.Rating == star_rating]\n",
    "\n",
    "    sub_num = len(star_sub)\n",
    "    agree_num = len(star_agree)\n",
    "    disagr_num = sub_num - agree_num\n",
    "\n",
    "    a_pct = agree_num/sub_num\n",
    "    d_pct = disagr_num/sub_num\n",
    "       \n",
    "print(f'{star_rating:^12}|     {sub_num:4}    |   {agree_num:4}  |{a_pct*100:6.2f}%|    {disagr_num:4}    |{d_pct*100:7.2f}%')"
   ]
  },
  {
   "cell_type": "markdown",
   "metadata": {
    "id": "GpMfvMFi_KWo"
   },
   "source": [
    "Be sure to save and exit your Jupyter Notebook and Shutdown Jupyter Lab (from the __File__ menu) if using Ananconda before you submit your notebook on Blackboard for grading. If using Colab, be sure to Download (from the __File__ menu) back to your local file system before submitting to Blackboard.\n",
    "Make sure you don't submit the empty starting notebook by accident."
   ]
  }
 ],
 "metadata": {
  "colab": {
   "collapsed_sections": [],
   "name": "Lab8.ipynb",
   "provenance": []
  },
  "kernelspec": {
   "display_name": "Python 3 (ipykernel)",
   "language": "python",
   "name": "python3"
  },
  "language_info": {
   "codemirror_mode": {
    "name": "ipython",
    "version": 3
   },
   "file_extension": ".py",
   "mimetype": "text/x-python",
   "name": "python",
   "nbconvert_exporter": "python",
   "pygments_lexer": "ipython3",
   "version": "3.8.8"
  }
 },
 "nbformat": 4,
 "nbformat_minor": 4
}
